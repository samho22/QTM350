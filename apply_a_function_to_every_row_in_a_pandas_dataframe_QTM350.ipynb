{
  "nbformat": 4,
  "nbformat_minor": 0,
  "metadata": {
    "kernelspec": {
      "display_name": "Python 3",
      "language": "python",
      "name": "python3"
    },
    "language_info": {
      "codemirror_mode": {
        "name": "ipython",
        "version": 3
      },
      "file_extension": ".py",
      "mimetype": "text/x-python",
      "name": "python",
      "nbconvert_exporter": "python",
      "pygments_lexer": "ipython3",
      "version": "3.6.4"
    },
    "colab": {
      "name": "Copy of apply-a-function-to-every-row-in-a-pandas-dataframe-QTM350.ipynb",
      "provenance": [],
      "collapsed_sections": [],
      "include_colab_link": true
    }
  },
  "cells": [
    {
      "cell_type": "markdown",
      "metadata": {
        "id": "view-in-github",
        "colab_type": "text"
      },
      "source": [
        "<a href=\"https://colab.research.google.com/github/samho22/QTM350/blob/main/apply_a_function_to_every_row_in_a_pandas_dataframe_QTM350.ipynb\" target=\"_parent\"><img src=\"https://colab.research.google.com/assets/colab-badge.svg\" alt=\"Open In Colab\"/></a>"
      ]
    },
    {
      "cell_type": "code",
      "metadata": {
        "id": "yGvM4PaBV8g4"
      },
      "source": [
        "import pandas as pd"
      ],
      "execution_count": 1,
      "outputs": []
    },
    {
      "cell_type": "markdown",
      "metadata": {
        "id": "-w1M15MhV8g8"
      },
      "source": [
        "## Use `.apply` to send a column of every row to a function\n",
        "\n",
        "You can use `.apply` to send a single column to a function. This is useful when cleaning up data - converting formats, altering values etc."
      ]
    },
    {
      "cell_type": "code",
      "metadata": {
        "id": "7RUvTOD-V8g9",
        "colab": {
          "base_uri": "https://localhost:8080/",
          "height": 359
        },
        "outputId": "9f683aa0-5c2d-405c-e120-92d57bc7a8d7"
      },
      "source": [
        "# What does our data look like?\n",
        "df = pd.read_csv(\"https://raw.githubusercontent.com/jeremyallenjacobson/RealRootsReproduction/master/train-1-10-2.csv\", header=None)\n",
        "df.head(10)"
      ],
      "execution_count": 2,
      "outputs": [
        {
          "output_type": "execute_result",
          "data": {
            "text/html": [
              "<div>\n",
              "<style scoped>\n",
              "    .dataframe tbody tr th:only-of-type {\n",
              "        vertical-align: middle;\n",
              "    }\n",
              "\n",
              "    .dataframe tbody tr th {\n",
              "        vertical-align: top;\n",
              "    }\n",
              "\n",
              "    .dataframe thead th {\n",
              "        text-align: right;\n",
              "    }\n",
              "</style>\n",
              "<table border=\"1\" class=\"dataframe\">\n",
              "  <thead>\n",
              "    <tr style=\"text-align: right;\">\n",
              "      <th></th>\n",
              "      <th>0</th>\n",
              "      <th>1</th>\n",
              "      <th>2</th>\n",
              "      <th>3</th>\n",
              "    </tr>\n",
              "  </thead>\n",
              "  <tbody>\n",
              "    <tr>\n",
              "      <th>0</th>\n",
              "      <td>8</td>\n",
              "      <td>6</td>\n",
              "      <td>10</td>\n",
              "      <td>0</td>\n",
              "    </tr>\n",
              "    <tr>\n",
              "      <th>1</th>\n",
              "      <td>4</td>\n",
              "      <td>9</td>\n",
              "      <td>8</td>\n",
              "      <td>0</td>\n",
              "    </tr>\n",
              "    <tr>\n",
              "      <th>2</th>\n",
              "      <td>6</td>\n",
              "      <td>2</td>\n",
              "      <td>5</td>\n",
              "      <td>0</td>\n",
              "    </tr>\n",
              "    <tr>\n",
              "      <th>3</th>\n",
              "      <td>3</td>\n",
              "      <td>6</td>\n",
              "      <td>6</td>\n",
              "      <td>0</td>\n",
              "    </tr>\n",
              "    <tr>\n",
              "      <th>4</th>\n",
              "      <td>5</td>\n",
              "      <td>10</td>\n",
              "      <td>8</td>\n",
              "      <td>0</td>\n",
              "    </tr>\n",
              "    <tr>\n",
              "      <th>5</th>\n",
              "      <td>10</td>\n",
              "      <td>2</td>\n",
              "      <td>6</td>\n",
              "      <td>0</td>\n",
              "    </tr>\n",
              "    <tr>\n",
              "      <th>6</th>\n",
              "      <td>8</td>\n",
              "      <td>8</td>\n",
              "      <td>9</td>\n",
              "      <td>0</td>\n",
              "    </tr>\n",
              "    <tr>\n",
              "      <th>7</th>\n",
              "      <td>5</td>\n",
              "      <td>9</td>\n",
              "      <td>1</td>\n",
              "      <td>1</td>\n",
              "    </tr>\n",
              "    <tr>\n",
              "      <th>8</th>\n",
              "      <td>9</td>\n",
              "      <td>10</td>\n",
              "      <td>5</td>\n",
              "      <td>0</td>\n",
              "    </tr>\n",
              "    <tr>\n",
              "      <th>9</th>\n",
              "      <td>5</td>\n",
              "      <td>3</td>\n",
              "      <td>5</td>\n",
              "      <td>0</td>\n",
              "    </tr>\n",
              "  </tbody>\n",
              "</table>\n",
              "</div>"
            ],
            "text/plain": [
              "    0   1   2  3\n",
              "0   8   6  10  0\n",
              "1   4   9   8  0\n",
              "2   6   2   5  0\n",
              "3   3   6   6  0\n",
              "4   5  10   8  0\n",
              "5  10   2   6  0\n",
              "6   8   8   9  0\n",
              "7   5   9   1  1\n",
              "8   9  10   5  0\n",
              "9   5   3   5  0"
            ]
          },
          "metadata": {
            "tags": []
          },
          "execution_count": 2
        }
      ]
    },
    {
      "cell_type": "code",
      "metadata": {
        "id": "7J8c6FHwqwqG",
        "colab": {
          "base_uri": "https://localhost:8080/",
          "height": 419
        },
        "outputId": "5a960e0f-6a13-48e8-fa83-16876a6cceb7"
      },
      "source": [
        "df.columns = ['a','b','c','Real root']\n",
        "df"
      ],
      "execution_count": 3,
      "outputs": [
        {
          "output_type": "execute_result",
          "data": {
            "text/html": [
              "<div>\n",
              "<style scoped>\n",
              "    .dataframe tbody tr th:only-of-type {\n",
              "        vertical-align: middle;\n",
              "    }\n",
              "\n",
              "    .dataframe tbody tr th {\n",
              "        vertical-align: top;\n",
              "    }\n",
              "\n",
              "    .dataframe thead th {\n",
              "        text-align: right;\n",
              "    }\n",
              "</style>\n",
              "<table border=\"1\" class=\"dataframe\">\n",
              "  <thead>\n",
              "    <tr style=\"text-align: right;\">\n",
              "      <th></th>\n",
              "      <th>a</th>\n",
              "      <th>b</th>\n",
              "      <th>c</th>\n",
              "      <th>Real root</th>\n",
              "    </tr>\n",
              "  </thead>\n",
              "  <tbody>\n",
              "    <tr>\n",
              "      <th>0</th>\n",
              "      <td>8</td>\n",
              "      <td>6</td>\n",
              "      <td>10</td>\n",
              "      <td>0</td>\n",
              "    </tr>\n",
              "    <tr>\n",
              "      <th>1</th>\n",
              "      <td>4</td>\n",
              "      <td>9</td>\n",
              "      <td>8</td>\n",
              "      <td>0</td>\n",
              "    </tr>\n",
              "    <tr>\n",
              "      <th>2</th>\n",
              "      <td>6</td>\n",
              "      <td>2</td>\n",
              "      <td>5</td>\n",
              "      <td>0</td>\n",
              "    </tr>\n",
              "    <tr>\n",
              "      <th>3</th>\n",
              "      <td>3</td>\n",
              "      <td>6</td>\n",
              "      <td>6</td>\n",
              "      <td>0</td>\n",
              "    </tr>\n",
              "    <tr>\n",
              "      <th>4</th>\n",
              "      <td>5</td>\n",
              "      <td>10</td>\n",
              "      <td>8</td>\n",
              "      <td>0</td>\n",
              "    </tr>\n",
              "    <tr>\n",
              "      <th>...</th>\n",
              "      <td>...</td>\n",
              "      <td>...</td>\n",
              "      <td>...</td>\n",
              "      <td>...</td>\n",
              "    </tr>\n",
              "    <tr>\n",
              "      <th>695</th>\n",
              "      <td>5</td>\n",
              "      <td>3</td>\n",
              "      <td>1</td>\n",
              "      <td>0</td>\n",
              "    </tr>\n",
              "    <tr>\n",
              "      <th>696</th>\n",
              "      <td>4</td>\n",
              "      <td>8</td>\n",
              "      <td>3</td>\n",
              "      <td>1</td>\n",
              "    </tr>\n",
              "    <tr>\n",
              "      <th>697</th>\n",
              "      <td>5</td>\n",
              "      <td>5</td>\n",
              "      <td>8</td>\n",
              "      <td>0</td>\n",
              "    </tr>\n",
              "    <tr>\n",
              "      <th>698</th>\n",
              "      <td>3</td>\n",
              "      <td>1</td>\n",
              "      <td>10</td>\n",
              "      <td>0</td>\n",
              "    </tr>\n",
              "    <tr>\n",
              "      <th>699</th>\n",
              "      <td>6</td>\n",
              "      <td>10</td>\n",
              "      <td>3</td>\n",
              "      <td>1</td>\n",
              "    </tr>\n",
              "  </tbody>\n",
              "</table>\n",
              "<p>700 rows × 4 columns</p>\n",
              "</div>"
            ],
            "text/plain": [
              "     a   b   c  Real root\n",
              "0    8   6  10          0\n",
              "1    4   9   8          0\n",
              "2    6   2   5          0\n",
              "3    3   6   6          0\n",
              "4    5  10   8          0\n",
              "..  ..  ..  ..        ...\n",
              "695  5   3   1          0\n",
              "696  4   8   3          1\n",
              "697  5   5   8          0\n",
              "698  3   1  10          0\n",
              "699  6  10   3          1\n",
              "\n",
              "[700 rows x 4 columns]"
            ]
          },
          "metadata": {
            "tags": []
          },
          "execution_count": 3
        }
      ]
    },
    {
      "cell_type": "markdown",
      "metadata": {
        "id": "N3VUeaKemDQz"
      },
      "source": [
        "Below we define the discriminant function which takes as input `x=[a,b,c]` a list of coefficients of a polynomial\n",
        "$$\n",
        "ax^2+bx+c\n",
        "$$\n",
        "and returns its mathematical discriminant\n",
        " $$b^2-4ac$$"
      ]
    },
    {
      "cell_type": "code",
      "metadata": {
        "id": "VaJgyFMuV8hB"
      },
      "source": [
        "def discriminant(x):\n",
        "    return x[1]**2 - 4*x[0]*x[2]"
      ],
      "execution_count": 4,
      "outputs": []
    },
    {
      "cell_type": "markdown",
      "metadata": {
        "id": "0Ldlqkmvl5Pn"
      },
      "source": [
        "Now let's apply this function, using the previous columns as input. \n",
        "\n",
        "### How do we pass in the entries of the columns as input?\n",
        "We select the first three columns using `loc` and use *slicing* by passing to the column index `0:2`. We pass `:` to the row index as we want all rows."
      ]
    },
    {
      "cell_type": "code",
      "metadata": {
        "id": "tehvsXvdmyV6",
        "colab": {
          "base_uri": "https://localhost:8080/",
          "height": 419
        },
        "outputId": "220fd217-915b-4718-86af-b6498029aa85"
      },
      "source": [
        "df.iloc[:,0:3]"
      ],
      "execution_count": 5,
      "outputs": [
        {
          "output_type": "execute_result",
          "data": {
            "text/html": [
              "<div>\n",
              "<style scoped>\n",
              "    .dataframe tbody tr th:only-of-type {\n",
              "        vertical-align: middle;\n",
              "    }\n",
              "\n",
              "    .dataframe tbody tr th {\n",
              "        vertical-align: top;\n",
              "    }\n",
              "\n",
              "    .dataframe thead th {\n",
              "        text-align: right;\n",
              "    }\n",
              "</style>\n",
              "<table border=\"1\" class=\"dataframe\">\n",
              "  <thead>\n",
              "    <tr style=\"text-align: right;\">\n",
              "      <th></th>\n",
              "      <th>a</th>\n",
              "      <th>b</th>\n",
              "      <th>c</th>\n",
              "    </tr>\n",
              "  </thead>\n",
              "  <tbody>\n",
              "    <tr>\n",
              "      <th>0</th>\n",
              "      <td>8</td>\n",
              "      <td>6</td>\n",
              "      <td>10</td>\n",
              "    </tr>\n",
              "    <tr>\n",
              "      <th>1</th>\n",
              "      <td>4</td>\n",
              "      <td>9</td>\n",
              "      <td>8</td>\n",
              "    </tr>\n",
              "    <tr>\n",
              "      <th>2</th>\n",
              "      <td>6</td>\n",
              "      <td>2</td>\n",
              "      <td>5</td>\n",
              "    </tr>\n",
              "    <tr>\n",
              "      <th>3</th>\n",
              "      <td>3</td>\n",
              "      <td>6</td>\n",
              "      <td>6</td>\n",
              "    </tr>\n",
              "    <tr>\n",
              "      <th>4</th>\n",
              "      <td>5</td>\n",
              "      <td>10</td>\n",
              "      <td>8</td>\n",
              "    </tr>\n",
              "    <tr>\n",
              "      <th>...</th>\n",
              "      <td>...</td>\n",
              "      <td>...</td>\n",
              "      <td>...</td>\n",
              "    </tr>\n",
              "    <tr>\n",
              "      <th>695</th>\n",
              "      <td>5</td>\n",
              "      <td>3</td>\n",
              "      <td>1</td>\n",
              "    </tr>\n",
              "    <tr>\n",
              "      <th>696</th>\n",
              "      <td>4</td>\n",
              "      <td>8</td>\n",
              "      <td>3</td>\n",
              "    </tr>\n",
              "    <tr>\n",
              "      <th>697</th>\n",
              "      <td>5</td>\n",
              "      <td>5</td>\n",
              "      <td>8</td>\n",
              "    </tr>\n",
              "    <tr>\n",
              "      <th>698</th>\n",
              "      <td>3</td>\n",
              "      <td>1</td>\n",
              "      <td>10</td>\n",
              "    </tr>\n",
              "    <tr>\n",
              "      <th>699</th>\n",
              "      <td>6</td>\n",
              "      <td>10</td>\n",
              "      <td>3</td>\n",
              "    </tr>\n",
              "  </tbody>\n",
              "</table>\n",
              "<p>700 rows × 3 columns</p>\n",
              "</div>"
            ],
            "text/plain": [
              "     a   b   c\n",
              "0    8   6  10\n",
              "1    4   9   8\n",
              "2    6   2   5\n",
              "3    3   6   6\n",
              "4    5  10   8\n",
              "..  ..  ..  ..\n",
              "695  5   3   1\n",
              "696  4   8   3\n",
              "697  5   5   8\n",
              "698  3   1  10\n",
              "699  6  10   3\n",
              "\n",
              "[700 rows x 3 columns]"
            ]
          },
          "metadata": {
            "tags": []
          },
          "execution_count": 5
        }
      ]
    },
    {
      "cell_type": "markdown",
      "metadata": {
        "id": "0CwOHTORmxgZ"
      },
      "source": [
        "Now, we apply our function to these first three columns, and save the result in a new column called `Discriminant`. It is aptly named, as its value in any row is simply the value of the mathematical discriminant of the polynomial determined by the coefficients in that row."
      ]
    },
    {
      "cell_type": "code",
      "metadata": {
        "id": "qht6Zn5ZV8hE"
      },
      "source": [
        "df['Discriminant'] = df.iloc[:,:3].apply(discriminant, axis=1)"
      ],
      "execution_count": 6,
      "outputs": []
    },
    {
      "cell_type": "code",
      "metadata": {
        "id": "MINU-JkEV8hH",
        "colab": {
          "base_uri": "https://localhost:8080/",
          "height": 359
        },
        "outputId": "0e9223d7-c769-478f-f838-c0c4d47a9cda"
      },
      "source": [
        "# Take a peek\n",
        "df.head(10)"
      ],
      "execution_count": 7,
      "outputs": [
        {
          "output_type": "execute_result",
          "data": {
            "text/html": [
              "<div>\n",
              "<style scoped>\n",
              "    .dataframe tbody tr th:only-of-type {\n",
              "        vertical-align: middle;\n",
              "    }\n",
              "\n",
              "    .dataframe tbody tr th {\n",
              "        vertical-align: top;\n",
              "    }\n",
              "\n",
              "    .dataframe thead th {\n",
              "        text-align: right;\n",
              "    }\n",
              "</style>\n",
              "<table border=\"1\" class=\"dataframe\">\n",
              "  <thead>\n",
              "    <tr style=\"text-align: right;\">\n",
              "      <th></th>\n",
              "      <th>a</th>\n",
              "      <th>b</th>\n",
              "      <th>c</th>\n",
              "      <th>Real root</th>\n",
              "      <th>Discriminant</th>\n",
              "    </tr>\n",
              "  </thead>\n",
              "  <tbody>\n",
              "    <tr>\n",
              "      <th>0</th>\n",
              "      <td>8</td>\n",
              "      <td>6</td>\n",
              "      <td>10</td>\n",
              "      <td>0</td>\n",
              "      <td>-284</td>\n",
              "    </tr>\n",
              "    <tr>\n",
              "      <th>1</th>\n",
              "      <td>4</td>\n",
              "      <td>9</td>\n",
              "      <td>8</td>\n",
              "      <td>0</td>\n",
              "      <td>-47</td>\n",
              "    </tr>\n",
              "    <tr>\n",
              "      <th>2</th>\n",
              "      <td>6</td>\n",
              "      <td>2</td>\n",
              "      <td>5</td>\n",
              "      <td>0</td>\n",
              "      <td>-116</td>\n",
              "    </tr>\n",
              "    <tr>\n",
              "      <th>3</th>\n",
              "      <td>3</td>\n",
              "      <td>6</td>\n",
              "      <td>6</td>\n",
              "      <td>0</td>\n",
              "      <td>-36</td>\n",
              "    </tr>\n",
              "    <tr>\n",
              "      <th>4</th>\n",
              "      <td>5</td>\n",
              "      <td>10</td>\n",
              "      <td>8</td>\n",
              "      <td>0</td>\n",
              "      <td>-60</td>\n",
              "    </tr>\n",
              "    <tr>\n",
              "      <th>5</th>\n",
              "      <td>10</td>\n",
              "      <td>2</td>\n",
              "      <td>6</td>\n",
              "      <td>0</td>\n",
              "      <td>-236</td>\n",
              "    </tr>\n",
              "    <tr>\n",
              "      <th>6</th>\n",
              "      <td>8</td>\n",
              "      <td>8</td>\n",
              "      <td>9</td>\n",
              "      <td>0</td>\n",
              "      <td>-224</td>\n",
              "    </tr>\n",
              "    <tr>\n",
              "      <th>7</th>\n",
              "      <td>5</td>\n",
              "      <td>9</td>\n",
              "      <td>1</td>\n",
              "      <td>1</td>\n",
              "      <td>61</td>\n",
              "    </tr>\n",
              "    <tr>\n",
              "      <th>8</th>\n",
              "      <td>9</td>\n",
              "      <td>10</td>\n",
              "      <td>5</td>\n",
              "      <td>0</td>\n",
              "      <td>-80</td>\n",
              "    </tr>\n",
              "    <tr>\n",
              "      <th>9</th>\n",
              "      <td>5</td>\n",
              "      <td>3</td>\n",
              "      <td>5</td>\n",
              "      <td>0</td>\n",
              "      <td>-91</td>\n",
              "    </tr>\n",
              "  </tbody>\n",
              "</table>\n",
              "</div>"
            ],
            "text/plain": [
              "    a   b   c  Real root  Discriminant\n",
              "0   8   6  10          0          -284\n",
              "1   4   9   8          0           -47\n",
              "2   6   2   5          0          -116\n",
              "3   3   6   6          0           -36\n",
              "4   5  10   8          0           -60\n",
              "5  10   2   6          0          -236\n",
              "6   8   8   9          0          -224\n",
              "7   5   9   1          1            61\n",
              "8   9  10   5          0           -80\n",
              "9   5   3   5          0           -91"
            ]
          },
          "metadata": {
            "tags": []
          },
          "execution_count": 7
        }
      ]
    },
    {
      "cell_type": "markdown",
      "metadata": {
        "id": "AJKSK11Tn5xY"
      },
      "source": [
        "So what does the column named `3` represent? It indicates, with a 0 or 1, whether or not the polynomial in that row has a real root or not. Recall, a root is a value $x$ for which\n",
        "$$ ax^2+bx+c =0$$\n",
        "\n",
        "Notice, the only appearance of 1 in the `3` column in the sample above occurs when the `Discriminant` is positive. Indeed, this is a property of the discriminant. It is positive if and only if there is a non-zero real root."
      ]
    },
    {
      "cell_type": "code",
      "metadata": {
        "id": "ZIl0vsN-hGBB"
      },
      "source": [
        "def degree(x):\n",
        "  if (x[0] !=0): a = 2\n",
        "  elif (x[1] !=0): a = 1\n",
        "  else: a = 0\n",
        "  return a"
      ],
      "execution_count": 17,
      "outputs": []
    },
    {
      "cell_type": "code",
      "metadata": {
        "id": "sZwhleUChNOQ"
      },
      "source": [
        "df['Degree'] = df.iloc[:,:3].apply(degree, axis=1)\n",
        "df.tail(30)"
      ],
      "execution_count": null,
      "outputs": []
    },
    {
      "cell_type": "code",
      "metadata": {
        "id": "_yFPTUUO-Lyd"
      },
      "source": [
        "df.to_csv('degree.csv')"
      ],
      "execution_count": 19,
      "outputs": []
    },
    {
      "cell_type": "code",
      "metadata": {
        "colab": {
          "base_uri": "https://localhost:8080/"
        },
        "id": "xE8wQZiv-5TR",
        "outputId": "4d879db2-f07a-41be-edd5-c75a61f6f76b"
      },
      "source": [
        "!ls"
      ],
      "execution_count": 20,
      "outputs": [
        {
          "output_type": "stream",
          "text": [
            "degree.csv  sample_data\n"
          ],
          "name": "stdout"
        }
      ]
    },
    {
      "cell_type": "markdown",
      "metadata": {
        "id": "Rvph_GlQV8hL"
      },
      "source": [
        "## Use `.apply` with `axis=1` to send every single row to a function\n",
        "\n",
        "You can also send an **entire row at a time** instead of just a single column. Use this if you need to use **multiple columns to get a result**."
      ]
    },
    {
      "cell_type": "code",
      "metadata": {
        "id": "1xJSeIt_V8hM",
        "colab": {
          "base_uri": "https://localhost:8080/",
          "height": 142
        },
        "outputId": "b1b79bb0-ffa7-4379-8867-0b0e7601e6a2"
      },
      "source": [
        "# Create a dataframe from a list of dictionaries\n",
        "rectangles = [\n",
        "    { 'height': 40, 'width': 10 },\n",
        "    { 'height': 20, 'width': 9 },\n",
        "    { 'height': 3.4, 'width': 4 }\n",
        "]\n",
        "\n",
        "rectangles_df = pd.DataFrame(rectangles)\n",
        "rectangles_df"
      ],
      "execution_count": null,
      "outputs": [
        {
          "output_type": "execute_result",
          "data": {
            "text/html": [
              "<div>\n",
              "<style scoped>\n",
              "    .dataframe tbody tr th:only-of-type {\n",
              "        vertical-align: middle;\n",
              "    }\n",
              "\n",
              "    .dataframe tbody tr th {\n",
              "        vertical-align: top;\n",
              "    }\n",
              "\n",
              "    .dataframe thead th {\n",
              "        text-align: right;\n",
              "    }\n",
              "</style>\n",
              "<table border=\"1\" class=\"dataframe\">\n",
              "  <thead>\n",
              "    <tr style=\"text-align: right;\">\n",
              "      <th></th>\n",
              "      <th>height</th>\n",
              "      <th>width</th>\n",
              "    </tr>\n",
              "  </thead>\n",
              "  <tbody>\n",
              "    <tr>\n",
              "      <th>0</th>\n",
              "      <td>40.0</td>\n",
              "      <td>10</td>\n",
              "    </tr>\n",
              "    <tr>\n",
              "      <th>1</th>\n",
              "      <td>20.0</td>\n",
              "      <td>9</td>\n",
              "    </tr>\n",
              "    <tr>\n",
              "      <th>2</th>\n",
              "      <td>3.4</td>\n",
              "      <td>4</td>\n",
              "    </tr>\n",
              "  </tbody>\n",
              "</table>\n",
              "</div>"
            ],
            "text/plain": [
              "   height  width\n",
              "0    40.0     10\n",
              "1    20.0      9\n",
              "2     3.4      4"
            ]
          },
          "metadata": {
            "tags": []
          },
          "execution_count": 9
        }
      ]
    },
    {
      "cell_type": "code",
      "metadata": {
        "id": "M8rlOBmnV8hO",
        "colab": {
          "base_uri": "https://localhost:8080/"
        },
        "outputId": "af828778-c035-4672-f208-65e861e706b9"
      },
      "source": [
        "# Use the height and width to calculate the area\n",
        "def calculate_area(row):\n",
        "    return row['height'] * row['width']\n",
        "\n",
        "rectangles_df.apply(calculate_area, axis=1)"
      ],
      "execution_count": null,
      "outputs": [
        {
          "output_type": "execute_result",
          "data": {
            "text/plain": [
              "0    400.0\n",
              "1    180.0\n",
              "2     13.6\n",
              "dtype: float64"
            ]
          },
          "metadata": {
            "tags": []
          },
          "execution_count": 10
        }
      ]
    },
    {
      "cell_type": "code",
      "metadata": {
        "id": "_8kkLth9V8hR",
        "colab": {
          "base_uri": "https://localhost:8080/",
          "height": 142
        },
        "outputId": "5881c411-c6b8-43c5-89d0-537fc7b67cb9"
      },
      "source": [
        "# Use .apply to save the new column if we'd like\n",
        "rectangles_df['area'] = rectangles_df.apply(calculate_area, axis=1)\n",
        "rectangles_df"
      ],
      "execution_count": null,
      "outputs": [
        {
          "output_type": "execute_result",
          "data": {
            "text/html": [
              "<div>\n",
              "<style scoped>\n",
              "    .dataframe tbody tr th:only-of-type {\n",
              "        vertical-align: middle;\n",
              "    }\n",
              "\n",
              "    .dataframe tbody tr th {\n",
              "        vertical-align: top;\n",
              "    }\n",
              "\n",
              "    .dataframe thead th {\n",
              "        text-align: right;\n",
              "    }\n",
              "</style>\n",
              "<table border=\"1\" class=\"dataframe\">\n",
              "  <thead>\n",
              "    <tr style=\"text-align: right;\">\n",
              "      <th></th>\n",
              "      <th>height</th>\n",
              "      <th>width</th>\n",
              "      <th>area</th>\n",
              "    </tr>\n",
              "  </thead>\n",
              "  <tbody>\n",
              "    <tr>\n",
              "      <th>0</th>\n",
              "      <td>40.0</td>\n",
              "      <td>10</td>\n",
              "      <td>400.0</td>\n",
              "    </tr>\n",
              "    <tr>\n",
              "      <th>1</th>\n",
              "      <td>20.0</td>\n",
              "      <td>9</td>\n",
              "      <td>180.0</td>\n",
              "    </tr>\n",
              "    <tr>\n",
              "      <th>2</th>\n",
              "      <td>3.4</td>\n",
              "      <td>4</td>\n",
              "      <td>13.6</td>\n",
              "    </tr>\n",
              "  </tbody>\n",
              "</table>\n",
              "</div>"
            ],
            "text/plain": [
              "   height  width   area\n",
              "0    40.0     10  400.0\n",
              "1    20.0      9  180.0\n",
              "2     3.4      4   13.6"
            ]
          },
          "metadata": {
            "tags": []
          },
          "execution_count": 11
        }
      ]
    },
    {
      "cell_type": "markdown",
      "metadata": {
        "id": "Rr-fhCafuiDB"
      },
      "source": [
        "To save the new dataframe as a csv, we use the command below."
      ]
    },
    {
      "cell_type": "code",
      "metadata": {
        "id": "PeMlm545ulkV"
      },
      "source": [
        "rectangles_df.to_csv('area.csv')"
      ],
      "execution_count": null,
      "outputs": []
    },
    {
      "cell_type": "markdown",
      "metadata": {
        "id": "DBKkarD6uq6M"
      },
      "source": [
        "Then, we can see that our new file appears."
      ]
    },
    {
      "cell_type": "code",
      "metadata": {
        "id": "YS01H7T9u6hV",
        "colab": {
          "base_uri": "https://localhost:8080/"
        },
        "outputId": "b1f6f060-8ca1-4c7f-ac8d-dde5656f1609"
      },
      "source": [
        "!ls"
      ],
      "execution_count": null,
      "outputs": [
        {
          "output_type": "stream",
          "text": [
            "area.csv  sample_data\n"
          ],
          "name": "stdout"
        }
      ]
    },
    {
      "cell_type": "markdown",
      "metadata": {
        "id": "m4WEj3IXu7Oj"
      },
      "source": [
        "From here, if we were running this notebook in sagemaker, it would be easy to copy this file to our S3 bucket using shell commands. Below are the instructions for that.\n",
        "\n",
        "Alternatively, you can use git. Git clone your repo to this notebook instance, then commit and push the file area.csv.\n",
        "\n",
        "#### Copying a local file to S3 (only works if AWS CLI installed)\n",
        "\n",
        "Indeed, if you use sagemaker the AWS CLI comes preinstalled, so there would be no need to authenticate as we already gave our Sagemaker instance an IAM role allowing it to access all S3 buckets.  \n",
        "\n",
        "The following cp command copies a single file to a specified bucket, here named 'mybucket' and key:"
      ]
    },
    {
      "cell_type": "code",
      "metadata": {
        "id": "MWc6qKEZvRBK",
        "colab": {
          "base_uri": "https://localhost:8080/"
        },
        "outputId": "1ad8aefe-c1bd-475e-d355-e569c00aec4b"
      },
      "source": [
        "!aws s3 cp area.csv s3://mybucket/area.csv"
      ],
      "execution_count": null,
      "outputs": [
        {
          "output_type": "stream",
          "text": [
            "/bin/bash: aws: command not found\n"
          ],
          "name": "stdout"
        }
      ]
    },
    {
      "cell_type": "markdown",
      "metadata": {
        "id": "b095S3GrvjPy"
      },
      "source": [
        "For more AWS CLI commands for working with S3, see the examples in the reference [here](https://docs.aws.amazon.com/cli/latest/reference/s3/index.html)."
      ]
    }
  ]
}